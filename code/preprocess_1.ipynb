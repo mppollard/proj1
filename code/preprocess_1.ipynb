{
 "cells": [
  {
   "cell_type": "code",
   "execution_count": 45,
   "metadata": {},
   "outputs": [],
   "source": [
    "# define path constants\n",
    "landing_data = '../data/landing/'\n",
    "raw_data = '../data/raw/'\n",
    "curated_data = '../data/curated/'\n",
    "analysis_data = '../data/analysis/'"
   ]
  },
  {
   "cell_type": "code",
   "execution_count": 1,
   "metadata": {},
   "outputs": [
    {
     "name": "stderr",
     "output_type": "stream",
     "text": [
      "your 131072x1 screen size is bogus. expect trouble\n",
      "23/08/12 16:27:05 WARN Utils: Your hostname, PVM203L resolves to a loopback address: 127.0.1.1; using 172.20.203.188 instead (on interface eth0)\n",
      "23/08/12 16:27:05 WARN Utils: Set SPARK_LOCAL_IP if you need to bind to another address\n",
      "Setting default log level to \"WARN\".\n",
      "To adjust logging level use sc.setLogLevel(newLevel). For SparkR, use setLogLevel(newLevel).\n",
      "23/08/12 16:27:08 WARN NativeCodeLoader: Unable to load native-hadoop library for your platform... using builtin-java classes where applicable\n"
     ]
    }
   ],
   "source": [
    "from pyspark.sql import SparkSession\n",
    "\n",
    "# Create a spark session (which will run spark jobs)\n",
    "spark = (\n",
    "    SparkSession.builder.appName(\"MAST30034 Tutorial 1\")\n",
    "    .config(\"spark.sql.repl.eagerEval.enabled\", True) \n",
    "    .config(\"spark.sql.parquet.cacheMetadata\", \"true\")\n",
    "    .config(\"spark.sql.session.timeZone\", \"Etc/UTC\")\n",
    "    .getOrCreate()\n",
    ")"
   ]
  },
  {
   "cell_type": "code",
   "execution_count": 60,
   "metadata": {},
   "outputs": [],
   "source": [
    "from pyspark.sql.functions import col, lit\n",
    "\n",
    "def prepare_raw_tlc_data(source: str, rename_cols: dict[str:str]) -> None:\n",
    "    '''\n",
    "    Retrieves downloaded TLC data (landing data), combining separate monthly data\n",
    "    into one dataframe, and renames and filters columnsof interest (). \n",
    "    Saves this raw data down accordingly\n",
    "    Arguments:\n",
    "        source = TLC data source (yellow, green, or fhvhv)\n",
    "        rename_cols = dict with keys = original column name, values = new column name\n",
    "    Ouput: None\n",
    "    '''\n",
    "    # get landing data\n",
    "    all_data = spark.read.parquet(landing_data+source+'/')\n",
    "    # select columns of interest\n",
    "    all_data = all_data.select(*rename_cols.keys())\n",
    "    # rename columns\n",
    "    all_data = all_data.select([col(c).alias(rename_cols.get(c, c)) for c in all_data.columns])\n",
    "    # adding an identifier for data source, as curated data will combine all sourcse\n",
    "    # into one dataframe\n",
    "    all_data=all_data.withColumn('source',lit(source))\n",
    "    # save the raw data\n",
    "    all_data.write.mode('overwrite').parquet(raw_data+source)"
   ]
  },
  {
   "cell_type": "code",
   "execution_count": 61,
   "metadata": {},
   "outputs": [
    {
     "name": "stderr",
     "output_type": "stream",
     "text": [
      "                                                                                \r"
     ]
    }
   ],
   "source": [
    "# prepare the raw data for each of the yellow, green, and fhvhv data sets in turn\n",
    "rename_cols = {'tpep_pickup_datetime': 'pickup_datetime', 'tpep_dropoff_datetime': 'dropoff_datetime',\n",
    "               'trip_distance': 'trip_distance', 'PULocationID':'pickup_id','fare_amount':'fare'}\n",
    "prepare_raw_tlc_data('yellow', rename_cols)\n",
    "\n",
    "rename_cols = {'lpep_pickup_datetime': 'pickup_datetime', 'lpep_dropoff_datetime': 'dropoff_datetime',\n",
    "               'trip_distance': 'trip_distance', 'PULocationID':'pickup_id','fare_amount':'fare'}\n",
    "prepare_raw_tlc_data('green', rename_cols)\n",
    "\n",
    "rename_cols = {'pickup_datetime': 'pickup_datetime', 'dropoff_datetime': 'dropoff_datetime',\n",
    "               'trip_miles': 'trip_distance', 'PULocationID':'pickup_id','base_passenger_fare':'fare'}\n",
    "prepare_raw_tlc_data('fhvhv', rename_cols)"
   ]
  },
  {
   "cell_type": "code",
   "execution_count": 46,
   "metadata": {},
   "outputs": [],
   "source": [
    "yellow_all = spark.read.parquet(landing_data+'yellow/')"
   ]
  },
  {
   "cell_type": "code",
   "execution_count": 26,
   "metadata": {},
   "outputs": [],
   "source": [
    "green_all = spark.read.parquet('../data/green/')"
   ]
  },
  {
   "cell_type": "code",
   "execution_count": 27,
   "metadata": {},
   "outputs": [
    {
     "data": {
      "text/html": [
       "<table border='1'>\n",
       "<tr><th>VendorID</th><th>lpep_pickup_datetime</th><th>lpep_dropoff_datetime</th><th>store_and_fwd_flag</th><th>RatecodeID</th><th>PULocationID</th><th>DOLocationID</th><th>passenger_count</th><th>trip_distance</th><th>fare_amount</th><th>extra</th><th>mta_tax</th><th>tip_amount</th><th>tolls_amount</th><th>ehail_fee</th><th>improvement_surcharge</th><th>total_amount</th><th>payment_type</th><th>trip_type</th><th>congestion_surcharge</th></tr>\n",
       "<tr><td>2</td><td>2023-05-01 00:52:10</td><td>2023-05-01 01:05:26</td><td>N</td><td>1</td><td>244</td><td>213</td><td>1</td><td>6.99</td><td>28.9</td><td>1.0</td><td>0.5</td><td>0.0</td><td>0.0</td><td>null</td><td>1.0</td><td>31.4</td><td>1</td><td>1</td><td>0.0</td></tr>\n",
       "<tr><td>2</td><td>2023-05-01 00:29:49</td><td>2023-05-01 00:50:11</td><td>N</td><td>1</td><td>33</td><td>100</td><td>1</td><td>6.6</td><td>30.3</td><td>1.0</td><td>0.5</td><td>5.0</td><td>0.0</td><td>null</td><td>1.0</td><td>40.55</td><td>1</td><td>1</td><td>2.75</td></tr>\n",
       "<tr><td>2</td><td>2023-05-01 00:25:19</td><td>2023-05-01 00:32:12</td><td>N</td><td>1</td><td>244</td><td>244</td><td>1</td><td>1.34</td><td>9.3</td><td>1.0</td><td>0.5</td><td>2.36</td><td>0.0</td><td>null</td><td>1.0</td><td>14.16</td><td>1</td><td>1</td><td>0.0</td></tr>\n",
       "<tr><td>2</td><td>2023-05-01 00:07:06</td><td>2023-05-01 00:27:33</td><td>N</td><td>5</td><td>82</td><td>75</td><td>1</td><td>7.79</td><td>22.73</td><td>0.0</td><td>0.0</td><td>2.29</td><td>6.55</td><td>null</td><td>1.0</td><td>32.57</td><td>1</td><td>1</td><td>0.0</td></tr>\n",
       "<tr><td>2</td><td>2023-05-01 00:43:31</td><td>2023-05-01 00:46:59</td><td>N</td><td>1</td><td>69</td><td>169</td><td>1</td><td>0.7</td><td>6.5</td><td>1.0</td><td>0.5</td><td>0.0</td><td>0.0</td><td>null</td><td>1.0</td><td>9.0</td><td>2</td><td>1</td><td>0.0</td></tr>\n",
       "</table>\n"
      ],
      "text/plain": [
       "+--------+--------------------+---------------------+------------------+----------+------------+------------+---------------+-------------+-----------+-----+-------+----------+------------+---------+---------------------+------------+------------+---------+--------------------+\n",
       "|VendorID|lpep_pickup_datetime|lpep_dropoff_datetime|store_and_fwd_flag|RatecodeID|PULocationID|DOLocationID|passenger_count|trip_distance|fare_amount|extra|mta_tax|tip_amount|tolls_amount|ehail_fee|improvement_surcharge|total_amount|payment_type|trip_type|congestion_surcharge|\n",
       "+--------+--------------------+---------------------+------------------+----------+------------+------------+---------------+-------------+-----------+-----+-------+----------+------------+---------+---------------------+------------+------------+---------+--------------------+\n",
       "|       2| 2023-05-01 00:52:10|  2023-05-01 01:05:26|                 N|         1|         244|         213|              1|         6.99|       28.9|  1.0|    0.5|       0.0|         0.0|     null|                  1.0|        31.4|           1|        1|                 0.0|\n",
       "|       2| 2023-05-01 00:29:49|  2023-05-01 00:50:11|                 N|         1|          33|         100|              1|          6.6|       30.3|  1.0|    0.5|       5.0|         0.0|     null|                  1.0|       40.55|           1|        1|                2.75|\n",
       "|       2| 2023-05-01 00:25:19|  2023-05-01 00:32:12|                 N|         1|         244|         244|              1|         1.34|        9.3|  1.0|    0.5|      2.36|         0.0|     null|                  1.0|       14.16|           1|        1|                 0.0|\n",
       "|       2| 2023-05-01 00:07:06|  2023-05-01 00:27:33|                 N|         5|          82|          75|              1|         7.79|      22.73|  0.0|    0.0|      2.29|        6.55|     null|                  1.0|       32.57|           1|        1|                 0.0|\n",
       "|       2| 2023-05-01 00:43:31|  2023-05-01 00:46:59|                 N|         1|          69|         169|              1|          0.7|        6.5|  1.0|    0.5|       0.0|         0.0|     null|                  1.0|         9.0|           2|        1|                 0.0|\n",
       "+--------+--------------------+---------------------+------------------+----------+------------+------------+---------------+-------------+-----------+-----+-------+----------+------------+---------+---------------------+------------+------------+---------+--------------------+"
      ]
     },
     "execution_count": 27,
     "metadata": {},
     "output_type": "execute_result"
    }
   ],
   "source": [
    "green_all.limit(5)"
   ]
  },
  {
   "cell_type": "code",
   "execution_count": 4,
   "metadata": {},
   "outputs": [],
   "source": [
    "fhvhv_all = spark.read.parquet('../data/fhvhv/')"
   ]
  },
  {
   "cell_type": "code",
   "execution_count": 5,
   "metadata": {},
   "outputs": [],
   "source": [
    "select_cols=('tpep_pickup_datetime', 'tpep_dropoff_datetime', 'trip_distance','PULocationID', 'fare_amount')\n",
    "yellow_all = yellow_all.select(*select_cols)\n",
    "rename_cols = {'tpep_pickup_datetime': 'pickup_datetime', 'tpep_dropoff_datetime': 'dropoff_datetime',\n",
    "               'trip_distance': 'trip_distance', 'PULocationID':'pickup_id','fare_amount':'fare'}\n",
    "yellow_all = yellow_all.select([col(c).alias(rename_cols.get(c, c)) for c in yellow_all.columns])"
   ]
  },
  {
   "cell_type": "code",
   "execution_count": 28,
   "metadata": {},
   "outputs": [],
   "source": [
    "yellow_all=yellow_all.withColumn('trip_time', yellow_all.dropoff_datetime - yellow_all.pickup_datetime)"
   ]
  },
  {
   "cell_type": "code",
   "execution_count": null,
   "metadata": {},
   "outputs": [],
   "source": []
  },
  {
   "cell_type": "code",
   "execution_count": 43,
   "metadata": {},
   "outputs": [
    {
     "ename": "SyntaxError",
     "evalue": "invalid decimal literal (2969704009.py, line 1)",
     "output_type": "error",
     "traceback": [
      "\u001b[0;36m  Cell \u001b[0;32mIn[43], line 1\u001b[0;36m\u001b[0m\n\u001b[0;31m    yellow_all.withColumn('trip_time', F.col('trip_time').cast('long')/60.round(4))\u001b[0m\n\u001b[0m                                                                         ^\u001b[0m\n\u001b[0;31mSyntaxError\u001b[0m\u001b[0;31m:\u001b[0m invalid decimal literal\n"
     ]
    }
   ],
   "source": [
    "yellow_all.withColumn('trip_time', F.col('trip_time').cast('long')/60.round(4))"
   ]
  },
  {
   "cell_type": "code",
   "execution_count": 41,
   "metadata": {},
   "outputs": [
    {
     "data": {
      "text/html": [
       "<table border='1'>\n",
       "<tr><th>pickup_datetime</th><th>dropoff_datetime</th><th>trip_distance</th><th>pickup_id</th><th>fare</th><th>trip_time</th></tr>\n",
       "<tr><td>2023-05-01 00:33:13</td><td>2023-05-01 00:53:01</td><td>7.8</td><td>138</td><td>33.8</td><td>INTERVAL &#x27;0 00:19...</td></tr>\n",
       "<tr><td>2023-05-01 00:42:49</td><td>2023-05-01 01:11:18</td><td>8.1</td><td>138</td><td>35.9</td><td>INTERVAL &#x27;0 00:28...</td></tr>\n",
       "<tr><td>2023-05-01 00:56:34</td><td>2023-05-01 01:13:39</td><td>9.1</td><td>138</td><td>35.2</td><td>INTERVAL &#x27;0 00:17...</td></tr>\n",
       "<tr><td>2023-05-01 00:00:52</td><td>2023-05-01 00:20:12</td><td>8.21</td><td>138</td><td>33.1</td><td>INTERVAL &#x27;0 00:19...</td></tr>\n",
       "<tr><td>2023-05-01 00:05:50</td><td>2023-05-01 00:19:41</td><td>7.9</td><td>138</td><td>31.0</td><td>INTERVAL &#x27;0 00:13...</td></tr>\n",
       "</table>\n"
      ],
      "text/plain": [
       "+-------------------+-------------------+-------------+---------+----+--------------------+\n",
       "|    pickup_datetime|   dropoff_datetime|trip_distance|pickup_id|fare|           trip_time|\n",
       "+-------------------+-------------------+-------------+---------+----+--------------------+\n",
       "|2023-05-01 00:33:13|2023-05-01 00:53:01|          7.8|      138|33.8|INTERVAL '0 00:19...|\n",
       "|2023-05-01 00:42:49|2023-05-01 01:11:18|          8.1|      138|35.9|INTERVAL '0 00:28...|\n",
       "|2023-05-01 00:56:34|2023-05-01 01:13:39|          9.1|      138|35.2|INTERVAL '0 00:17...|\n",
       "|2023-05-01 00:00:52|2023-05-01 00:20:12|         8.21|      138|33.1|INTERVAL '0 00:19...|\n",
       "|2023-05-01 00:05:50|2023-05-01 00:19:41|          7.9|      138|31.0|INTERVAL '0 00:13...|\n",
       "+-------------------+-------------------+-------------+---------+----+--------------------+"
      ]
     },
     "execution_count": 41,
     "metadata": {},
     "output_type": "execute_result"
    }
   ],
   "source": [
    "yellow_all.limit(5)"
   ]
  },
  {
   "cell_type": "code",
   "execution_count": 31,
   "metadata": {},
   "outputs": [
    {
     "ename": "AttributeError",
     "evalue": "'DataFrame' object has no attribute 'cast'",
     "output_type": "error",
     "traceback": [
      "\u001b[0;31m---------------------------------------------------------------------------\u001b[0m",
      "\u001b[0;31mAttributeError\u001b[0m                            Traceback (most recent call last)",
      "Cell \u001b[0;32mIn[31], line 1\u001b[0m\n\u001b[0;32m----> 1\u001b[0m yellow_all\u001b[39m.\u001b[39;49mselect(\u001b[39m'\u001b[39;49m\u001b[39mpickup_datetime\u001b[39;49m\u001b[39m'\u001b[39;49m)\u001b[39m.\u001b[39;49mcast(long)\u001b[39m-\u001b[39myellow_all\u001b[39m.\u001b[39mselect(\u001b[39m'\u001b[39m\u001b[39mdropoff_datetime\u001b[39m\u001b[39m'\u001b[39m)\u001b[39m.\u001b[39mcast(long)\n",
      "File \u001b[0;32m/usr/local/lib/python3.10/dist-packages/pyspark/sql/dataframe.py:2977\u001b[0m, in \u001b[0;36mDataFrame.__getattr__\u001b[0;34m(self, name)\u001b[0m\n\u001b[1;32m   2944\u001b[0m \u001b[39m\u001b[39m\u001b[39m\"\"\"Returns the :class:`Column` denoted by ``name``.\u001b[39;00m\n\u001b[1;32m   2945\u001b[0m \n\u001b[1;32m   2946\u001b[0m \u001b[39m.. versionadded:: 1.3.0\u001b[39;00m\n\u001b[0;32m   (...)\u001b[0m\n\u001b[1;32m   2974\u001b[0m \u001b[39m+---+\u001b[39;00m\n\u001b[1;32m   2975\u001b[0m \u001b[39m\"\"\"\u001b[39;00m\n\u001b[1;32m   2976\u001b[0m \u001b[39mif\u001b[39;00m name \u001b[39mnot\u001b[39;00m \u001b[39min\u001b[39;00m \u001b[39mself\u001b[39m\u001b[39m.\u001b[39mcolumns:\n\u001b[0;32m-> 2977\u001b[0m     \u001b[39mraise\u001b[39;00m \u001b[39mAttributeError\u001b[39;00m(\n\u001b[1;32m   2978\u001b[0m         \u001b[39m\"\u001b[39m\u001b[39m'\u001b[39m\u001b[39m%s\u001b[39;00m\u001b[39m'\u001b[39m\u001b[39m object has no attribute \u001b[39m\u001b[39m'\u001b[39m\u001b[39m%s\u001b[39;00m\u001b[39m'\u001b[39m\u001b[39m\"\u001b[39m \u001b[39m%\u001b[39m (\u001b[39mself\u001b[39m\u001b[39m.\u001b[39m\u001b[39m__class__\u001b[39m\u001b[39m.\u001b[39m\u001b[39m__name__\u001b[39m, name)\n\u001b[1;32m   2979\u001b[0m     )\n\u001b[1;32m   2980\u001b[0m jc \u001b[39m=\u001b[39m \u001b[39mself\u001b[39m\u001b[39m.\u001b[39m_jdf\u001b[39m.\u001b[39mapply(name)\n\u001b[1;32m   2981\u001b[0m \u001b[39mreturn\u001b[39;00m Column(jc)\n",
      "\u001b[0;31mAttributeError\u001b[0m: 'DataFrame' object has no attribute 'cast'"
     ]
    }
   ],
   "source": [
    "yellow_all.select('pickup_datetime').cast(long)-yellow_all.select('dropoff_datetime').cast(long)"
   ]
  },
  {
   "cell_type": "code",
   "execution_count": 25,
   "metadata": {},
   "outputs": [
    {
     "data": {
      "text/html": [
       "<table border='1'>\n",
       "<tr><th>pickup_datetime</th><th>dropoff_datetime</th><th>trip_distance</th><th>pickup_id</th><th>fare</th></tr>\n",
       "<tr><td>2023-05-01 00:14:01</td><td>2023-05-01 00:14:23</td><td>0.0</td><td>132</td><td>3.0</td></tr>\n",
       "<tr><td>2023-05-01 00:30:22</td><td>2023-05-01 00:36:54</td><td>1.06</td><td>249</td><td>-8.6</td></tr>\n",
       "<tr><td>2023-05-01 00:22:53</td><td>2023-05-01 00:23:02</td><td>0.0</td><td>132</td><td>3.0</td></tr>\n",
       "<tr><td>2023-05-01 00:40:04</td><td>2023-05-01 00:40:24</td><td>0.0</td><td>265</td><td>150.0</td></tr>\n",
       "<tr><td>2023-05-01 00:18:15</td><td>2023-05-01 00:18:19</td><td>0.0</td><td>70</td><td>20.0</td></tr>\n",
       "<tr><td>2023-05-01 00:58:55</td><td>2023-05-01 01:17:02</td><td>10.86</td><td>138</td><td>-42.2</td></tr>\n",
       "<tr><td>2023-05-01 00:07:06</td><td>2023-05-01 00:07:15</td><td>0.0</td><td>79</td><td>70.0</td></tr>\n",
       "<tr><td>2023-05-01 00:31:42</td><td>2023-05-01 00:32:23</td><td>0.0</td><td>265</td><td>78.0</td></tr>\n",
       "<tr><td>2023-05-01 00:30:33</td><td>2023-05-01 00:30:54</td><td>0.0</td><td>138</td><td>3.0</td></tr>\n",
       "<tr><td>2023-05-01 00:41:56</td><td>2023-05-01 00:42:07</td><td>0.0</td><td>132</td><td>0.0</td></tr>\n",
       "<tr><td>2023-05-01 00:13:15</td><td>2023-05-01 00:33:28</td><td>12.86</td><td>138</td><td>-49.2</td></tr>\n",
       "<tr><td>2023-05-01 00:19:29</td><td>2023-05-01 00:19:55</td><td>0.0</td><td>211</td><td>70.0</td></tr>\n",
       "<tr><td>2023-05-01 00:14:27</td><td>2023-05-01 00:14:27</td><td>0.0</td><td>129</td><td>3.0</td></tr>\n",
       "<tr><td>2023-05-01 00:26:48</td><td>2023-05-01 00:26:50</td><td>0.0</td><td>230</td><td>85.0</td></tr>\n",
       "<tr><td>2023-05-01 00:55:50</td><td>2023-05-01 01:24:50</td><td>17.66</td><td>132</td><td>-70.0</td></tr>\n",
       "<tr><td>2023-05-01 00:19:06</td><td>2023-05-01 00:40:01</td><td>13.41</td><td>132</td><td>-50.6</td></tr>\n",
       "<tr><td>2023-05-01 00:48:48</td><td>2023-05-01 00:56:59</td><td>2.09</td><td>263</td><td>-12.1</td></tr>\n",
       "<tr><td>2023-05-01 00:08:59</td><td>2023-05-01 00:40:05</td><td>17.76</td><td>138</td><td>-92.6</td></tr>\n",
       "<tr><td>2023-05-01 00:18:54</td><td>2023-05-01 00:29:34</td><td>3.34</td><td>114</td><td>-16.3</td></tr>\n",
       "<tr><td>2023-05-01 01:17:20</td><td>2023-05-01 01:49:33</td><td>0.0</td><td>132</td><td>25.4</td></tr>\n",
       "</table>\n",
       "only showing top 20 rows\n"
      ],
      "text/plain": [
       "+-------------------+-------------------+-------------+---------+-----+\n",
       "|    pickup_datetime|   dropoff_datetime|trip_distance|pickup_id| fare|\n",
       "+-------------------+-------------------+-------------+---------+-----+\n",
       "|2023-05-01 00:14:01|2023-05-01 00:14:23|          0.0|      132|  3.0|\n",
       "|2023-05-01 00:30:22|2023-05-01 00:36:54|         1.06|      249| -8.6|\n",
       "|2023-05-01 00:22:53|2023-05-01 00:23:02|          0.0|      132|  3.0|\n",
       "|2023-05-01 00:40:04|2023-05-01 00:40:24|          0.0|      265|150.0|\n",
       "|2023-05-01 00:18:15|2023-05-01 00:18:19|          0.0|       70| 20.0|\n",
       "|2023-05-01 00:58:55|2023-05-01 01:17:02|        10.86|      138|-42.2|\n",
       "|2023-05-01 00:07:06|2023-05-01 00:07:15|          0.0|       79| 70.0|\n",
       "|2023-05-01 00:31:42|2023-05-01 00:32:23|          0.0|      265| 78.0|\n",
       "|2023-05-01 00:30:33|2023-05-01 00:30:54|          0.0|      138|  3.0|\n",
       "|2023-05-01 00:41:56|2023-05-01 00:42:07|          0.0|      132|  0.0|\n",
       "|2023-05-01 00:13:15|2023-05-01 00:33:28|        12.86|      138|-49.2|\n",
       "|2023-05-01 00:19:29|2023-05-01 00:19:55|          0.0|      211| 70.0|\n",
       "|2023-05-01 00:14:27|2023-05-01 00:14:27|          0.0|      129|  3.0|\n",
       "|2023-05-01 00:26:48|2023-05-01 00:26:50|          0.0|      230| 85.0|\n",
       "|2023-05-01 00:55:50|2023-05-01 01:24:50|        17.66|      132|-70.0|\n",
       "|2023-05-01 00:19:06|2023-05-01 00:40:01|        13.41|      132|-50.6|\n",
       "|2023-05-01 00:48:48|2023-05-01 00:56:59|         2.09|      263|-12.1|\n",
       "|2023-05-01 00:08:59|2023-05-01 00:40:05|        17.76|      138|-92.6|\n",
       "|2023-05-01 00:18:54|2023-05-01 00:29:34|         3.34|      114|-16.3|\n",
       "|2023-05-01 01:17:20|2023-05-01 01:49:33|          0.0|      132| 25.4|\n",
       "+-------------------+-------------------+-------------+---------+-----+\n",
       "only showing top 20 rows"
      ]
     },
     "execution_count": 25,
     "metadata": {},
     "output_type": "execute_result"
    }
   ],
   "source": [
    "# check date range\n",
    "yellow_all = yellow_all.where(\n",
    "    # != 0 is fine, but let's also take into account some more realistic filters\n",
    "    (F.col('fare') <= 0) \n",
    "    | (F.col('trip_distance') <= 0)\n",
    ").withColumn('After_discount', df.Course_Fees - df.Discount)"
   ]
  },
  {
   "cell_type": "code",
   "execution_count": 14,
   "metadata": {},
   "outputs": [],
   "source": [
    "select_cols=('lpep_pickup_datetime', 'lpep_dropoff_datetime', 'trip_distance','PULocationID', 'fare_amount')\n",
    "green_all = green_all.select(*select_cols)\n",
    "rename_cols = {'lpep_pickup_datetime': 'pickup_datetime', 'lpep_dropoff_datetime': 'dropoff_datetime',\n",
    "               'trip_distance': 'trip_distance', 'PULocationID':'pickup_id','fare_amount':'fare'}\n",
    "green_all = green_all.select([col(c).alias(rename_cols.get(c, c)) for c in green_all.columns])"
   ]
  },
  {
   "cell_type": "code",
   "execution_count": 15,
   "metadata": {},
   "outputs": [
    {
     "data": {
      "text/html": [
       "<table border='1'>\n",
       "<tr><th>pickup_datetime</th><th>dropoff_datetime</th><th>trip_distance</th><th>pickup_id</th><th>fare</th></tr>\n",
       "<tr><td>2023-05-01 00:52:10</td><td>2023-05-01 01:05:26</td><td>6.99</td><td>244</td><td>28.9</td></tr>\n",
       "<tr><td>2023-05-01 00:29:49</td><td>2023-05-01 00:50:11</td><td>6.6</td><td>33</td><td>30.3</td></tr>\n",
       "<tr><td>2023-05-01 00:25:19</td><td>2023-05-01 00:32:12</td><td>1.34</td><td>244</td><td>9.3</td></tr>\n",
       "<tr><td>2023-05-01 00:07:06</td><td>2023-05-01 00:27:33</td><td>7.79</td><td>82</td><td>22.73</td></tr>\n",
       "<tr><td>2023-05-01 00:43:31</td><td>2023-05-01 00:46:59</td><td>0.7</td><td>69</td><td>6.5</td></tr>\n",
       "</table>\n"
      ],
      "text/plain": [
       "+-------------------+-------------------+-------------+---------+-----+\n",
       "|    pickup_datetime|   dropoff_datetime|trip_distance|pickup_id| fare|\n",
       "+-------------------+-------------------+-------------+---------+-----+\n",
       "|2023-05-01 00:52:10|2023-05-01 01:05:26|         6.99|      244| 28.9|\n",
       "|2023-05-01 00:29:49|2023-05-01 00:50:11|          6.6|       33| 30.3|\n",
       "|2023-05-01 00:25:19|2023-05-01 00:32:12|         1.34|      244|  9.3|\n",
       "|2023-05-01 00:07:06|2023-05-01 00:27:33|         7.79|       82|22.73|\n",
       "|2023-05-01 00:43:31|2023-05-01 00:46:59|          0.7|       69|  6.5|\n",
       "+-------------------+-------------------+-------------+---------+-----+"
      ]
     },
     "execution_count": 15,
     "metadata": {},
     "output_type": "execute_result"
    }
   ],
   "source": [
    "green_all.limit(5)"
   ]
  },
  {
   "cell_type": "code",
   "execution_count": 18,
   "metadata": {},
   "outputs": [],
   "source": [
    "select_cols=('pickup_datetime', 'dropoff_datetime', 'trip_miles','PULocationID', 'base_passenger_fare')\n",
    "fhvhv_all = fhvhv_all.select(*select_cols)\n",
    "rename_cols = {'pickup_datetime': 'pickup_datetime', 'dropoff_datetime': 'dropoff_datetime',\n",
    "               'trip_miles': 'trip_distance', 'PULocationID':'pickup_id','base_passenger_fare':'fare'}\n",
    "fhvhv_all = fhvhv_all.select([col(c).alias(rename_cols.get(c, c)) for c in fhvhv_all.columns])"
   ]
  },
  {
   "cell_type": "code",
   "execution_count": 19,
   "metadata": {},
   "outputs": [
    {
     "data": {
      "text/html": [
       "<table border='1'>\n",
       "<tr><th>pickup_datetime</th><th>dropoff_datetime</th><th>trip_distance</th><th>pickup_id</th><th>fare</th></tr>\n",
       "<tr><td>2023-05-01 00:09:39</td><td>2023-05-01 00:21:04</td><td>2.247</td><td>32</td><td>12.3</td></tr>\n",
       "<tr><td>2023-05-01 00:43:35</td><td>2023-05-01 00:51:48</td><td>1.826</td><td>81</td><td>8.85</td></tr>\n",
       "<tr><td>2023-05-01 00:06:54</td><td>2023-05-01 00:20:24</td><td>3.88</td><td>121</td><td>12.7</td></tr>\n",
       "<tr><td>2023-05-01 00:24:27</td><td>2023-05-01 00:36:01</td><td>2.31</td><td>92</td><td>11.59</td></tr>\n",
       "<tr><td>2023-05-01 00:39:13</td><td>2023-05-01 00:57:07</td><td>9.45</td><td>53</td><td>27.69</td></tr>\n",
       "</table>\n"
      ],
      "text/plain": [
       "+-------------------+-------------------+-------------+---------+-----+\n",
       "|    pickup_datetime|   dropoff_datetime|trip_distance|pickup_id| fare|\n",
       "+-------------------+-------------------+-------------+---------+-----+\n",
       "|2023-05-01 00:09:39|2023-05-01 00:21:04|        2.247|       32| 12.3|\n",
       "|2023-05-01 00:43:35|2023-05-01 00:51:48|        1.826|       81| 8.85|\n",
       "|2023-05-01 00:06:54|2023-05-01 00:20:24|         3.88|      121| 12.7|\n",
       "|2023-05-01 00:24:27|2023-05-01 00:36:01|         2.31|       92|11.59|\n",
       "|2023-05-01 00:39:13|2023-05-01 00:57:07|         9.45|       53|27.69|\n",
       "+-------------------+-------------------+-------------+---------+-----+"
      ]
     },
     "execution_count": 19,
     "metadata": {},
     "output_type": "execute_result"
    }
   ],
   "source": [
    "fhvhv_all.limit(5)"
   ]
  },
  {
   "cell_type": "code",
   "execution_count": 16,
   "metadata": {},
   "outputs": [
    {
     "name": "stderr",
     "output_type": "stream",
     "text": [
      "                                                                                \r"
     ]
    },
    {
     "data": {
      "text/html": [
       "<table border='1'>\n",
       "<tr><th>hvfhs_license_num</th><th>dispatching_base_num</th><th>originating_base_num</th><th>request_datetime</th><th>on_scene_datetime</th><th>pickup_datetime</th><th>dropoff_datetime</th><th>PULocationID</th><th>DOLocationID</th><th>trip_miles</th><th>trip_time</th><th>base_passenger_fare</th><th>tolls</th><th>bcf</th><th>sales_tax</th><th>congestion_surcharge</th><th>airport_fee</th><th>tips</th><th>driver_pay</th><th>shared_request_flag</th><th>shared_match_flag</th><th>access_a_ride_flag</th><th>wav_request_flag</th><th>wav_match_flag</th></tr>\n",
       "<tr><td>HV0005</td><td>B03406</td><td>null</td><td>2023-04-30 23:59:28</td><td>null</td><td>2023-05-01 00:09:39</td><td>2023-05-01 00:21:04</td><td>32</td><td>81</td><td>2.247</td><td>685</td><td>12.3</td><td>0.0</td><td>0.37</td><td>1.09</td><td>0.0</td><td>0.0</td><td>0.0</td><td>10.27</td><td>N</td><td>N</td><td>N</td><td>N</td><td>Y</td></tr>\n",
       "<tr><td>HV0005</td><td>B03406</td><td>null</td><td>2023-05-01 00:37:36</td><td>null</td><td>2023-05-01 00:43:35</td><td>2023-05-01 00:51:48</td><td>81</td><td>254</td><td>1.826</td><td>493</td><td>8.85</td><td>0.0</td><td>0.27</td><td>0.78</td><td>0.0</td><td>0.0</td><td>0.0</td><td>7.75</td><td>N</td><td>N</td><td>N</td><td>N</td><td>Y</td></tr>\n",
       "<tr><td>HV0003</td><td>B03404</td><td>B03404</td><td>2023-05-01 00:00:50</td><td>2023-05-01 00:06:41</td><td>2023-05-01 00:06:54</td><td>2023-05-01 00:20:24</td><td>121</td><td>92</td><td>3.88</td><td>810</td><td>12.7</td><td>0.0</td><td>0.38</td><td>1.13</td><td>0.0</td><td>0.0</td><td>1.0</td><td>12.71</td><td>N</td><td>N</td><td> </td><td>N</td><td>N</td></tr>\n",
       "<tr><td>HV0003</td><td>B03404</td><td>B03404</td><td>2023-05-01 00:19:08</td><td>2023-05-01 00:23:57</td><td>2023-05-01 00:24:27</td><td>2023-05-01 00:36:01</td><td>92</td><td>53</td><td>2.31</td><td>694</td><td>11.59</td><td>0.0</td><td>0.35</td><td>1.03</td><td>0.0</td><td>0.0</td><td>0.0</td><td>10.57</td><td>N</td><td>N</td><td> </td><td>N</td><td>N</td></tr>\n",
       "<tr><td>HV0003</td><td>B03404</td><td>B03404</td><td>2023-05-01 00:34:25</td><td>2023-05-01 00:37:41</td><td>2023-05-01 00:39:13</td><td>2023-05-01 00:57:07</td><td>53</td><td>122</td><td>9.45</td><td>1074</td><td>27.69</td><td>0.0</td><td>0.83</td><td>2.46</td><td>0.0</td><td>0.0</td><td>0.0</td><td>24.27</td><td>Y</td><td>N</td><td> </td><td>N</td><td>N</td></tr>\n",
       "<tr><td>HV0003</td><td>B03404</td><td>B03404</td><td>2023-05-01 00:27:29</td><td>2023-05-01 00:28:56</td><td>2023-05-01 00:29:14</td><td>2023-05-01 00:38:00</td><td>234</td><td>114</td><td>1.65</td><td>526</td><td>11.83</td><td>0.0</td><td>0.35</td><td>1.05</td><td>2.75</td><td>0.0</td><td>0.0</td><td>7.12</td><td>N</td><td>N</td><td> </td><td>N</td><td>N</td></tr>\n",
       "<tr><td>HV0003</td><td>B03404</td><td>B03404</td><td>2023-05-01 00:17:02</td><td>2023-05-01 00:45:09</td><td>2023-05-01 00:46:20</td><td>2023-05-01 01:17:46</td><td>113</td><td>258</td><td>11.57</td><td>1886</td><td>38.63</td><td>6.55</td><td>1.36</td><td>4.01</td><td>2.75</td><td>0.0</td><td>0.0</td><td>32.93</td><td>N</td><td>N</td><td> </td><td>N</td><td>N</td></tr>\n",
       "<tr><td>HV0003</td><td>B03404</td><td>B03404</td><td>2023-04-30 23:57:59</td><td>2023-04-30 23:59:11</td><td>2023-05-01 00:00:59</td><td>2023-05-01 00:06:22</td><td>243</td><td>127</td><td>0.9</td><td>323</td><td>8.85</td><td>0.0</td><td>0.27</td><td>0.79</td><td>0.0</td><td>0.0</td><td>0.0</td><td>5.38</td><td>N</td><td>N</td><td> </td><td>N</td><td>N</td></tr>\n",
       "<tr><td>HV0003</td><td>B03404</td><td>B03404</td><td>2023-05-01 00:23:10</td><td>2023-05-01 00:24:39</td><td>2023-05-01 00:26:18</td><td>2023-05-01 00:33:50</td><td>166</td><td>238</td><td>1.39</td><td>452</td><td>8.69</td><td>0.0</td><td>0.26</td><td>0.77</td><td>0.75</td><td>0.0</td><td>0.0</td><td>6.08</td><td>Y</td><td>N</td><td> </td><td>N</td><td>N</td></tr>\n",
       "<tr><td>HV0003</td><td>B03404</td><td>B03404</td><td>2023-05-01 00:58:07</td><td>2023-05-01 00:59:42</td><td>2023-05-01 00:59:55</td><td>2023-05-01 01:09:42</td><td>164</td><td>143</td><td>2.77</td><td>587</td><td>13.6</td><td>0.0</td><td>0.41</td><td>1.21</td><td>2.75</td><td>0.0</td><td>1.0</td><td>9.16</td><td>N</td><td>N</td><td> </td><td>N</td><td>N</td></tr>\n",
       "</table>\n"
      ],
      "text/plain": [
       "+-----------------+--------------------+--------------------+-------------------+-------------------+-------------------+-------------------+------------+------------+----------+---------+-------------------+-----+----+---------+--------------------+-----------+----+----------+-------------------+-----------------+------------------+----------------+--------------+\n",
       "|hvfhs_license_num|dispatching_base_num|originating_base_num|   request_datetime|  on_scene_datetime|    pickup_datetime|   dropoff_datetime|PULocationID|DOLocationID|trip_miles|trip_time|base_passenger_fare|tolls| bcf|sales_tax|congestion_surcharge|airport_fee|tips|driver_pay|shared_request_flag|shared_match_flag|access_a_ride_flag|wav_request_flag|wav_match_flag|\n",
       "+-----------------+--------------------+--------------------+-------------------+-------------------+-------------------+-------------------+------------+------------+----------+---------+-------------------+-----+----+---------+--------------------+-----------+----+----------+-------------------+-----------------+------------------+----------------+--------------+\n",
       "|           HV0005|              B03406|                null|2023-04-30 23:59:28|               null|2023-05-01 00:09:39|2023-05-01 00:21:04|          32|          81|     2.247|      685|               12.3|  0.0|0.37|     1.09|                 0.0|        0.0| 0.0|     10.27|                  N|                N|                 N|               N|             Y|\n",
       "|           HV0005|              B03406|                null|2023-05-01 00:37:36|               null|2023-05-01 00:43:35|2023-05-01 00:51:48|          81|         254|     1.826|      493|               8.85|  0.0|0.27|     0.78|                 0.0|        0.0| 0.0|      7.75|                  N|                N|                 N|               N|             Y|\n",
       "|           HV0003|              B03404|              B03404|2023-05-01 00:00:50|2023-05-01 00:06:41|2023-05-01 00:06:54|2023-05-01 00:20:24|         121|          92|      3.88|      810|               12.7|  0.0|0.38|     1.13|                 0.0|        0.0| 1.0|     12.71|                  N|                N|                  |               N|             N|\n",
       "|           HV0003|              B03404|              B03404|2023-05-01 00:19:08|2023-05-01 00:23:57|2023-05-01 00:24:27|2023-05-01 00:36:01|          92|          53|      2.31|      694|              11.59|  0.0|0.35|     1.03|                 0.0|        0.0| 0.0|     10.57|                  N|                N|                  |               N|             N|\n",
       "|           HV0003|              B03404|              B03404|2023-05-01 00:34:25|2023-05-01 00:37:41|2023-05-01 00:39:13|2023-05-01 00:57:07|          53|         122|      9.45|     1074|              27.69|  0.0|0.83|     2.46|                 0.0|        0.0| 0.0|     24.27|                  Y|                N|                  |               N|             N|\n",
       "|           HV0003|              B03404|              B03404|2023-05-01 00:27:29|2023-05-01 00:28:56|2023-05-01 00:29:14|2023-05-01 00:38:00|         234|         114|      1.65|      526|              11.83|  0.0|0.35|     1.05|                2.75|        0.0| 0.0|      7.12|                  N|                N|                  |               N|             N|\n",
       "|           HV0003|              B03404|              B03404|2023-05-01 00:17:02|2023-05-01 00:45:09|2023-05-01 00:46:20|2023-05-01 01:17:46|         113|         258|     11.57|     1886|              38.63| 6.55|1.36|     4.01|                2.75|        0.0| 0.0|     32.93|                  N|                N|                  |               N|             N|\n",
       "|           HV0003|              B03404|              B03404|2023-04-30 23:57:59|2023-04-30 23:59:11|2023-05-01 00:00:59|2023-05-01 00:06:22|         243|         127|       0.9|      323|               8.85|  0.0|0.27|     0.79|                 0.0|        0.0| 0.0|      5.38|                  N|                N|                  |               N|             N|\n",
       "|           HV0003|              B03404|              B03404|2023-05-01 00:23:10|2023-05-01 00:24:39|2023-05-01 00:26:18|2023-05-01 00:33:50|         166|         238|      1.39|      452|               8.69|  0.0|0.26|     0.77|                0.75|        0.0| 0.0|      6.08|                  Y|                N|                  |               N|             N|\n",
       "|           HV0003|              B03404|              B03404|2023-05-01 00:58:07|2023-05-01 00:59:42|2023-05-01 00:59:55|2023-05-01 01:09:42|         164|         143|      2.77|      587|               13.6|  0.0|0.41|     1.21|                2.75|        0.0| 1.0|      9.16|                  N|                N|                  |               N|             N|\n",
       "+-----------------+--------------------+--------------------+-------------------+-------------------+-------------------+-------------------+------------+------------+----------+---------+-------------------+-----+----+---------+--------------------+-----------+----+----------+-------------------+-----------------+------------------+----------------+--------------+"
      ]
     },
     "execution_count": 16,
     "metadata": {},
     "output_type": "execute_result"
    }
   ],
   "source": [
    "fhvhv_all.limit(10)"
   ]
  }
 ],
 "metadata": {
  "kernelspec": {
   "display_name": "Python 3",
   "language": "python",
   "name": "python3"
  },
  "language_info": {
   "codemirror_mode": {
    "name": "ipython",
    "version": 3
   },
   "file_extension": ".py",
   "mimetype": "text/x-python",
   "name": "python",
   "nbconvert_exporter": "python",
   "pygments_lexer": "ipython3",
   "version": "3.10.12"
  },
  "orig_nbformat": 4
 },
 "nbformat": 4,
 "nbformat_minor": 2
}
